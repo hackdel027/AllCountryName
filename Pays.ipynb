{
 "cells": [
  {
   "cell_type": "code",
   "execution_count": 37,
   "id": "c0d2f7f8-2b27-4276-bdaf-c024ec12a431",
   "metadata": {},
   "outputs": [],
   "source": [
    "from bs4 import BeautifulSoup\n",
    "import requests\n",
    "import pandas as pd"
   ]
  },
  {
   "cell_type": "code",
   "execution_count": 10,
   "id": "745d4610-40c1-4b61-b72c-8dc9c577aff6",
   "metadata": {},
   "outputs": [],
   "source": [
    "url = \"https://fr.wikipedia.org/wiki/Liste_des_pays_du_monde\"\n",
    "req = requests.get(url)"
   ]
  },
  {
   "cell_type": "code",
   "execution_count": 14,
   "id": "46dc94d9-7c21-4b04-8108-43936a87f564",
   "metadata": {},
   "outputs": [],
   "source": [
    "html = req.text\n",
    "soup = BeautifulSoup(html, 'html.parser')"
   ]
  },
  {
   "cell_type": "code",
   "execution_count": 47,
   "id": "8e967d8b-4a49-4806-b9b8-ab4f4849274d",
   "metadata": {},
   "outputs": [],
   "source": [
    "tables = soup.find_all('table')\n"
   ]
  },
  {
   "cell_type": "code",
   "execution_count": 83,
   "id": "7fdfb434-0ee1-426a-9150-6827a4c98ccd",
   "metadata": {},
   "outputs": [],
   "source": [
    "master_list = []\n",
    "for tb in tables:\n",
    "    tr_list = tb.find_all('tr')[1:]\n",
    "    for pays in tr_list:\n",
    "        Pays = {}\n",
    "        Pays[\"nom_cour\"] = pays.find_all('a')[1].text\n",
    "        try:\n",
    "            Pays[\"nom_long\"] = pays.find_all('td')[2].find('a').text\n",
    "        except IndexError:\n",
    "            Pays[\"nom_long\"] = \" \"\n",
    "        master_list.append(Pays)"
   ]
  },
  {
   "cell_type": "code",
   "execution_count": 85,
   "id": "7cbed937-6e0b-4a9b-95f0-9680d653c964",
   "metadata": {},
   "outputs": [],
   "source": [
    "df = pd.DataFrame(master_list)\n",
    "df.to_csv('Pays.csv', index=False)"
   ]
  },
  {
   "cell_type": "code",
   "execution_count": null,
   "id": "d4fc074a-b991-4190-8631-884d372e9b14",
   "metadata": {},
   "outputs": [],
   "source": []
  },
  {
   "cell_type": "code",
   "execution_count": null,
   "id": "e4cf07e9-a58f-48a4-8d25-5882546adfe4",
   "metadata": {},
   "outputs": [],
   "source": []
  },
  {
   "cell_type": "code",
   "execution_count": null,
   "id": "9ec54093-4c77-40a2-a1ee-3a07f0733274",
   "metadata": {},
   "outputs": [],
   "source": []
  },
  {
   "cell_type": "code",
   "execution_count": null,
   "id": "3c7bacb6-cd22-464f-8324-4534808769bc",
   "metadata": {},
   "outputs": [],
   "source": []
  },
  {
   "cell_type": "code",
   "execution_count": null,
   "id": "74f40a71-f670-4c6b-b9f6-9e829fdde4c1",
   "metadata": {},
   "outputs": [],
   "source": []
  }
 ],
 "metadata": {
  "kernelspec": {
   "display_name": "Python 3 (ipykernel)",
   "language": "python",
   "name": "python3"
  },
  "language_info": {
   "codemirror_mode": {
    "name": "ipython",
    "version": 3
   },
   "file_extension": ".py",
   "mimetype": "text/x-python",
   "name": "python",
   "nbconvert_exporter": "python",
   "pygments_lexer": "ipython3",
   "version": "3.9.2"
  }
 },
 "nbformat": 4,
 "nbformat_minor": 5
}
